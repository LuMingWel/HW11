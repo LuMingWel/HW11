{
  "nbformat": 4,
  "nbformat_minor": 0,
  "metadata": {
    "colab": {
      "name": "Untitled0.ipynb",
      "version": "0.3.2",
      "provenance": []
    },
    "kernelspec": {
      "name": "python3",
      "display_name": "Python 3"
    },
    "accelerator": "GPU"
  },
  "cells": [
    {
      "cell_type": "code",
      "metadata": {
        "id": "v3Tlt77O5EW6",
        "colab_type": "code",
        "colab": {}
      },
      "source": [
        "!apt-get install -y -qq software-properties-common python-software-properties module-init-tools\n",
        "!add-apt-repository -y ppa:alessandro-strada/ppa 2>&1 > /dev/null\n",
        "!apt-get update -qq 2>&1 > /dev/null\n",
        "!apt-get -y install -qq google-drive-ocamlfuse fuse\n",
        "from google.colab import auth\n",
        "auth.authenticate_user()\n",
        "from oauth2client.client import GoogleCredentials\n",
        "creds = GoogleCredentials.get_application_default()\n",
        "import getpass\n",
        "!google-drive-ocamlfuse -headless -id={creds.client_id} -secret={creds.client_secret} < /dev/null 2>&1 | grep URL\n",
        "vcode = getpass.getpass()\n",
        "!echo {vcode} | google-drive-ocamlfuse -headless -id={creds.client_id} -secret={creds.client_secret}\n",
        "\n",
        "\n",
        "\n",
        "!mkdir -p drive\n",
        "\n",
        "!google-drive-ocamlfuse drive"
      ],
      "execution_count": 0,
      "outputs": []
    },
    {
      "cell_type": "code",
      "metadata": {
        "id": "2DY3eHCe5GxC",
        "colab_type": "code",
        "colab": {}
      },
      "source": [
        "!cp drive/images.zip ./\n",
        "!unzip images.zip"
      ],
      "execution_count": 0,
      "outputs": []
    },
    {
      "cell_type": "code",
      "metadata": {
        "id": "WGNE-tw95Ki4",
        "colab_type": "code",
        "colab": {}
      },
      "source": [
        "import tensorflow as tf\n",
        "from tensorflow.python.training.moving_averages import assign_moving_average\n",
        "import numpy as np\n",
        "import os\n",
        "import cv2\n",
        "import numpy as np\n",
        "import random as rn\n",
        "import tensorflow as tf\n",
        "import threading\n",
        "import time\n",
        "\n",
        "global n_classes\n",
        "n_classes = 50"
      ],
      "execution_count": 0,
      "outputs": []
    },
    {
      "cell_type": "code",
      "metadata": {
        "id": "4g_KMeq_5KuG",
        "colab_type": "code",
        "colab": {}
      },
      "source": [
        "_weights = {\n",
        "        'wc1': tf.get_variable(\"wc1\", [7, 7, 3, 96], initializer=tf.glorot_uniform_initializer()),\n",
        "        'wc2': tf.get_variable('wc2',[5, 5, 96, 256], initializer=tf.glorot_uniform_initializer()),\n",
        "        'wc3': tf.get_variable('wc3',[3, 3, 256, 384], initializer=tf.glorot_uniform_initializer()),\n",
        "        'wc4': tf.get_variable('wc4',[3, 3, 384, 384], initializer=tf.glorot_uniform_initializer()),\n",
        "        'wc5': tf.get_variable('wc5',[3, 3, 384, 256], initializer=tf.glorot_uniform_initializer()),\n",
        "        'wd2': tf.get_variable('wd2',[4096, 4096], initializer=tf.glorot_uniform_initializer()),\n",
        "        'out': tf.get_variable('out',[4096, n_classes], initializer=tf.glorot_uniform_initializer())\n",
        "    }\n",
        "_biases = {\n",
        "        'bc1': tf.get_variable('bc1',[96], initializer=tf.glorot_uniform_initializer()),\n",
        "        'bc2': tf.get_variable('bc2',[256], initializer=tf.glorot_uniform_initializer()),\n",
        "        'bc3': tf.get_variable('bc3',[384], initializer=tf.glorot_uniform_initializer()),\n",
        "        'bc4': tf.get_variable('bc4',[384], initializer=tf.glorot_uniform_initializer()),\n",
        "        'bc5': tf.get_variable('bc5',[256], initializer=tf.glorot_uniform_initializer()),\n",
        "        'bd2': tf.get_variable('db2',[4096], initializer=tf.glorot_uniform_initializer()),\n",
        "        'out': tf.get_variable('bout',[n_classes], initializer=tf.glorot_uniform_initializer())\n",
        "    }"
      ],
      "execution_count": 0,
      "outputs": []
    },
    {
      "cell_type": "code",
      "metadata": {
        "id": "XNl-YFG95KxG",
        "colab_type": "code",
        "colab": {}
      },
      "source": [
        "def activation(x,name=\"activation\"):\n",
        "    return tf.nn.relu(x, name=name)\n",
        "    \n",
        "def conv2d(name, l_input, w, b, s, p, scope):\n",
        "    l_input = tf.nn.conv2d(l_input, w, strides=[1,s,s,1], padding=p, name=name)\n",
        "    l_input = activation(l_input+b)\n",
        "    \n",
        "    return l_input\n",
        "\n",
        "def max_pool(name, l_input, k, s):\n",
        "    return tf.nn.max_pool(l_input, ksize=[1, k, k, 1], strides=[1, s, s, 1], padding='VALID', name=name)\n",
        "\n",
        "def norm(l_input, lsize=4, name=\"lrn\"):\n",
        "    return tf.nn.lrn(l_input, lsize, bias=1.0, alpha=0.001 / 9.0, beta=0.75, name=name)"
      ],
      "execution_count": 0,
      "outputs": []
    },
    {
      "cell_type": "code",
      "metadata": {
        "id": "WkfU2SDX5K0k",
        "colab_type": "code",
        "colab": {}
      },
      "source": [
        "def alex_net(_X, _dropout, batch_size):\n",
        "    conv1 = conv2d('conv1', _X, _weights['wc1'], _biases['bc1'], 3, 'VALID', 'conv1')\n",
        "    pool1 = max_pool('pool1', conv1, k=3,s=2)\n",
        "    conv2 = conv2d('conv2', pool1, _weights['wc2'], _biases['bc2'], 1, 'SAME', 'conv2')\n",
        "    pool2 = max_pool('pool2', conv2, k=3,s=2)\n",
        "    conv3 = conv2d('conv3', pool2, _weights['wc3'], _biases['bc3'], 1, 'SAME', 'conv3')\n",
        "    conv4 = conv2d('conv4', conv3, _weights['wc4'], _biases['bc4'], 1, 'SAME', 'conv4')\n",
        "    conv5 = conv2d('conv5', conv4, _weights['wc5'], _biases['bc5'], 1, 'SAME', 'conv5')\n",
        "    pool5 = max_pool('pool2', conv5, k=3,s=2)\n",
        "    # Find current size of conv5 to fit the requirement of FC1.\n",
        "    sizes = pool5.get_shape().as_list()\n",
        "    neurons =  sizes[1]*sizes[2]*sizes[3]\n",
        "    dense1 = tf.reshape(pool5, [batch_size, neurons]) # Reshape conv5 output to fit dense layer input\n",
        "    wei_den1 = tf.get_variable('wd3',[neurons, 4096], initializer=tf.glorot_uniform_initializer())\n",
        "    b_den1 =  tf.get_variable('wd4',[4096], initializer=tf.glorot_uniform_initializer())\n",
        "    \n",
        "    dense1 = activation(tf.matmul(dense1, wei_den1) + b_den1, name='fc1') # Relu activation\n",
        "    dd1=tf.nn.dropout(dense1, _dropout)\n",
        "    dense2 = activation(tf.matmul(dd1, _weights['wd2']) + _biases['bd2'], name='fc2') # Relu activation\n",
        "    out = tf.matmul(dense2, _weights['out']) + _biases['out'] # Relu activation\n",
        "\n",
        "    return out"
      ],
      "execution_count": 0,
      "outputs": []
    },
    {
      "cell_type": "code",
      "metadata": {
        "id": "21N69Xe65K5k",
        "colab_type": "code",
        "colab": {}
      },
      "source": [
        "def read_labeled_image_list(image_list_file, training_img_dir):\n",
        "    \"\"\"Reads a .txt file containing pathes and labeles\n",
        "    Args:\n",
        "       image_list_file: a .txt file with one /path/to/image per line\n",
        "       label: optionally, if set label will be pasted after each line\n",
        "    Returns:\n",
        "       List with all filenames in file image_list_file\n",
        "    \"\"\"\n",
        "    f = open(image_list_file, 'r')\n",
        "    filenames = []\n",
        "    labels = []\n",
        "\n",
        "    for line in f:\n",
        "        filename, label = line[:-1].split(' ')\n",
        "        filename = training_img_dir+filename\n",
        "        filenames.append(filename)\n",
        "        labels.append(int(label))\n",
        "        \n",
        "    return filenames, labels\n",
        "    \n",
        "    \n",
        "def read_images_from_disk(input_queue, size1=256):\n",
        "    \"\"\"Consumes a single filename and label as a ' '-delimited string.\n",
        "    Args:\n",
        "      filename_and_label_tensor: A scalar string tensor.\n",
        "    Returns:\n",
        "      Two tensors: the decoded image, and the string label.\n",
        "    \"\"\"\n",
        "    label = input_queue[1]\n",
        "    fn=input_queue[0]\n",
        "    file_contents = tf.read_file(input_queue[0])\n",
        "    example = tf.image.decode_jpeg(file_contents, channels=3)\n",
        "    \n",
        "    #example = tf.image.decode_png(file_contents, channels=3, name=\"dataset_image\") # png fo rlfw\n",
        "    example=tf.image.resize_images(example, [size1,size1])\n",
        "    return example, label, fn\n",
        "    \n",
        "def setup_inputs(sess, filenames, training_img_dir, image_size=256, crop_size=224, isTest=False, batch_size=128):\n",
        "    \n",
        "    # Read each image file\n",
        "    image_list, label_list = read_labeled_image_list(filenames, training_img_dir)\n",
        "\n",
        "    images = tf.cast(image_list, tf.string)\n",
        "    labels = tf.cast(label_list, tf.int64)\n",
        "     # Makes an input queue\n",
        "    if isTest is False:\n",
        "        isShuffle = True\n",
        "    else:\n",
        "        isShuffle = False\n",
        "        \n",
        "    input_queue = tf.train.slice_input_producer([images, labels], shuffle=isShuffle)\n",
        "    image, y,fn = read_images_from_disk(input_queue)\n",
        "\n",
        "    channels = 3\n",
        "    image.set_shape([None, None, channels])\n",
        "        \n",
        "    # Crop and other random augmentations\n",
        "    if isTest is False:\n",
        "        image = tf.image.random_flip_left_right(image)\n",
        "        image = tf.image.random_saturation(image, .95, 1.05)\n",
        "        image = tf.image.random_brightness(image, .05)\n",
        "        image = tf.image.random_contrast(image, .95, 1.05)\n",
        "        \n",
        "\n",
        "    image = tf.random_crop(image, [crop_size, crop_size, 3])\n",
        "    image = tf.cast(image, tf.float32)/255.0\n",
        "    \n",
        "    image, y,fn = tf.train.batch([image, y, fn], batch_size=batch_size, capacity=4,name='labels_and_images')\n",
        "\n",
        "    tf.train.start_queue_runners(sess=sess)\n",
        "\n",
        "    return image, y, fn, len(label_list)"
      ],
      "execution_count": 0,
      "outputs": []
    },
    {
      "cell_type": "code",
      "metadata": {
        "id": "5TkkW1_i5aVX",
        "colab_type": "code",
        "colab": {}
      },
      "source": [
        "batch_size = 128 \n",
        "display_step = 80\n",
        "dropout = 0.5"
      ],
      "execution_count": 0,
      "outputs": []
    },
    {
      "cell_type": "code",
      "metadata": {
        "id": "Re5htrZW6UhO",
        "colab_type": "code",
        "colab": {}
      },
      "source": [
        "keep_prob = tf.placeholder(tf.float32)          # Dropout rate to be fed\n",
        "learning_rate = tf.placeholder(tf.float32)      # Learning rate to be fed\n",
        "lr = 1e-3                                   # Learning rate start\n",
        "\n",
        "# Setup the tensorflow...\n",
        "config = tf.ConfigProto()\n",
        "config.gpu_options.allow_growth = True\n",
        "sess = tf.Session(config=config)\n",
        "\n",
        "print(\"Preparing the training & validation data...\")\n",
        "train_data, train_labels, filelist1, glen1 = setup_inputs(sess, \"train.txt\", \"./\", batch_size=batch_size)\n",
        "val_data, val_labels, filelist2, tlen1 = setup_inputs(sess, \"val.txt\", \"./\", batch_size=batch_size)\n",
        "\n",
        "max_iter = glen1*100\n",
        "\n",
        "print(\"Preparing the training model with learning rate = %.5f...\" % (lr))\n",
        "\n",
        "with tf.variable_scope(\"alexnet\", reuse=tf.AUTO_REUSE) as scope:\n",
        "    pred = alex_net(train_data,keep_prob,batch_size)\n",
        "\n",
        "with tf.name_scope('Loss_and_Accuracy'):\n",
        "  cost = tf.losses.sparse_softmax_cross_entropy(labels=train_labels, logits=pred)\n",
        "  optimizer = tf.train.AdamOptimizer(learning_rate=learning_rate).minimize(cost)\n",
        "  correct_prediction = tf.equal(tf.argmax(pred, 1), train_labels)\n",
        "  accuracy = tf.reduce_mean(tf.cast(correct_prediction, tf.float32))\n",
        "  top5=tf.reduce_mean(tf.cast(tf.nn.in_top_k(pred, train_labels, 5), tf.float32))\n",
        "  \n",
        "  tf.summary.scalar('Loss', cost)\n",
        "  tf.summary.scalar('Training_Accuracy', accuracy)\n",
        "  tf.summary.scalar('Top-5_accuracy', top5)"
      ],
      "execution_count": 0,
      "outputs": []
    },
    {
      "cell_type": "code",
      "metadata": {
        "id": "BJ1MusWp6Ul3",
        "colab_type": "code",
        "colab": {}
      },
      "source": [
        "saver = tf.train.Saver()\n",
        "init = tf.global_variables_initializer()\n",
        "sess.run(init)\n",
        "step = 0\n",
        "writer = tf.summary.FileWriter(\"/tmp/log2\", sess.graph)\n",
        "summaries = tf.summary.merge_all()\n",
        "\n",
        "print(\"We are going to train the ImageNet model based on AlexNet!!!\")\n",
        "while (step * batch_size) < max_iter:\n",
        "    epoch1=np.floor((step*batch_size)/glen1)\n",
        "    if (((step*batch_size)%glen1 < batch_size) & (lr==1e-3) & (epoch1 >2)):\n",
        "        lr /= 10\n",
        "\n",
        "    sess.run(optimizer,  feed_dict={keep_prob: dropout, learning_rate: lr})\n",
        "\n",
        "    if (step % 15000==1) & (step>15000):\n",
        "        save_path = saver.save(sess, \"checkpoint/tf_alex_model_iter\" + str(step) + \".ckpt\")\n",
        "        print(\"Model saved in file at iteration %d: %s\" % (step*batch_size,save_path))\n",
        "\n",
        "    if step % display_step == 1:\n",
        "        # calculate the loss\n",
        "        loss, acc, top5acc, summaries_string = sess.run([cost, accuracy, top5, summaries], feed_dict={keep_prob: 1.})\n",
        "        print(\"Iter=%d/epoch=%d, Loss=%.6f, Training Accuracy=%.6f, Top-5 Accuracy=%.6f, lr=%f\" % (step*batch_size, epoch1 ,loss, acc, top5acc, lr))\n",
        "        writer.add_summary(summaries_string, step)\n",
        "\n",
        "\n",
        "    step += 1\n",
        "print(\"Optimization Finished!\")\n",
        "save_path = saver.save(sess, \"checkpoint/tf_alex_model.ckpt\")\n",
        "print(\"Model saved in file: %s\" % save_path)"
      ],
      "execution_count": 0,
      "outputs": []
    },
    {
      "cell_type": "code",
      "metadata": {
        "id": "_A-olYtL6UpD",
        "colab_type": "code",
        "colab": {}
      },
      "source": [
        ""
      ],
      "execution_count": 0,
      "outputs": []
    },
    {
      "cell_type": "code",
      "metadata": {
        "id": "WgkImGG26UsB",
        "colab_type": "code",
        "colab": {}
      },
      "source": [
        ""
      ],
      "execution_count": 0,
      "outputs": []
    },
    {
      "cell_type": "code",
      "metadata": {
        "id": "HbTdk2ir5mwz",
        "colab_type": "code",
        "colab": {}
      },
      "source": [
        "exit()"
      ],
      "execution_count": 0,
      "outputs": []
    }
  ]
}